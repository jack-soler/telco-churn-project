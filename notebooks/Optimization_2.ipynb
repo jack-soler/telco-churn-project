{
 "cells": [
  {
   "cell_type": "code",
   "execution_count": 7,
   "metadata": {},
   "outputs": [
    {
     "name": "stdout",
     "output_type": "stream",
     "text": [
      "Random Forest Accuracy: 0.8526570048309179\n",
      "SVC Accuracy: 0.857487922705314\n",
      "XGBoost Accuracy: 0.8565217391304348\n",
      "Ensemble Accuracy: 0.8603864734299517\n"
     ]
    }
   ],
   "source": [
    "# Import necessary libraries\n",
    "import pandas as pd\n",
    "from sklearn.ensemble import RandomForestClassifier\n",
    "from sklearn.model_selection import train_test_split, cross_val_score\n",
    "from sklearn.metrics import accuracy_score\n",
    "from sklearn.preprocessing import LabelEncoder, StandardScaler\n",
    "from sklearn.svm import SVC\n",
    "from xgboost import XGBClassifier\n",
    "from sklearn.ensemble import VotingClassifier\n",
    "from sklearn.linear_model import LogisticRegression\n",
    "from imblearn.over_sampling import SMOTE\n",
    "from sqlalchemy import create_engine\n",
    "\n",
    "# Create a connection to the SQLite database\n",
    "engine = create_engine('sqlite:///../notebooks/churn_data2.db')\n",
    "\n",
    "# Query the ‘churn’ table\n",
    "data_from_db = pd.read_sql('SELECT * FROM churn', engine)\n",
    "\n",
    "# Fill missing values\n",
    "data_from_db.fillna(method='ffill', inplace=True)\n",
    "\n",
    "# Encode categorical variables\n",
    "label_encoders = {}\n",
    "for column in data_from_db.select_dtypes(include=['object']).columns:\n",
    "    label_encoders[column] = LabelEncoder()\n",
    "    data_from_db[column] = label_encoders[column].fit_transform(data_from_db[column])\n",
    "\n",
    "# Define features and target\n",
    "target_col = 'Churn'  # Change to your target column name\n",
    "X = data_from_db.drop(columns=[target_col])\n",
    "y = data_from_db[target_col]\n",
    "\n",
    "# Handle class imbalance\n",
    "smote = SMOTE(random_state=42)\n",
    "X_res, y_res = smote.fit_resample(X, y)\n",
    "\n",
    "# Split the data into training and testing sets\n",
    "X_train, X_test, y_train, y_test = train_test_split(X_res, y_res, test_size=0.2, random_state=42)\n",
    "\n",
    "# Scale the data\n",
    "scaler = StandardScaler()\n",
    "X_train_scaled = scaler.fit_transform(X_train)\n",
    "X_test_scaled = scaler.transform(X_test)\n",
    "\n",
    "# Try different models\n",
    "models = [RandomForestClassifier(n_estimators=100, random_state=42), SVC(), XGBClassifier()]\n",
    "model_names = ['Random Forest', 'SVC', 'XGBoost']\n",
    "\n",
    "for i, model in enumerate(models):\n",
    "    model.fit(X_train_scaled, y_train)\n",
    "    y_pred = model.predict(X_test_scaled)\n",
    "    accuracy = accuracy_score(y_test, y_pred)\n",
    "    print(f\"{model_names[i]} Accuracy: {accuracy}\")\n",
    "\n",
    "# Ensemble method\n",
    "estimators = []\n",
    "model1 = LogisticRegression(max_iter=1000)\n",
    "estimators.append(('logistic', model1))\n",
    "model2 = RandomForestClassifier()\n",
    "estimators.append(('rf', model2))\n",
    "model3 = SVC()\n",
    "estimators.append(('svm', model3))\n",
    "\n",
    "# Create the ensemble model\n",
    "ensemble = VotingClassifier(estimators)\n",
    "ensemble.fit(X_train_scaled, y_train)\n",
    "y_pred = ensemble.predict(X_test_scaled)\n",
    "accuracy = accuracy_score(y_test, y_pred)\n",
    "print(f\"Ensemble Accuracy: {accuracy}\")"
   ]
  },
  {
   "cell_type": "code",
   "execution_count": 8,
   "metadata": {},
   "outputs": [
    {
     "name": "stdout",
     "output_type": "stream",
     "text": [
      "Random Forest Precision: 0.8583815028901735\n",
      "Random Forest Recall: 0.8493803622497617\n",
      "Random Forest F1 Score: 0.8538572113080978\n",
      "Random Forest AUC-ROC: 0.8527019343080346\n",
      "SVC Precision: 0.8604206500956023\n",
      "SVC Recall: 0.8579599618684461\n",
      "SVC F1 Score: 0.8591885441527446\n",
      "SVC AUC-ROC: 0.8574814500821173\n",
      "XGBoost Precision: 0.8594646271510517\n",
      "XGBoost Recall: 0.8570066730219257\n",
      "XGBoost F1 Score: 0.8582338902147971\n",
      "XGBoost AUC-ROC: 0.8565150896941166\n"
     ]
    }
   ],
   "source": [
    "from sklearn.metrics import precision_score, recall_score, f1_score, roc_auc_score\n",
    "\n",
    "# Calculate metrics for each model\n",
    "for i, model in enumerate(models):\n",
    "    y_pred = model.predict(X_test_scaled)\n",
    "    precision = precision_score(y_test, y_pred)\n",
    "    recall = recall_score(y_test, y_pred)\n",
    "    f1 = f1_score(y_test, y_pred)\n",
    "    auc_roc = roc_auc_score(y_test, y_pred)\n",
    "    print(f\"{model_names[i]} Precision: {precision}\")\n",
    "    print(f\"{model_names[i]} Recall: {recall}\")\n",
    "    print(f\"{model_names[i]} F1 Score: {f1}\")\n",
    "    print(f\"{model_names[i]} AUC-ROC: {auc_roc}\")"
   ]
  },
  {
   "cell_type": "code",
   "execution_count": 9,
   "metadata": {},
   "outputs": [
    {
     "name": "stdout",
     "output_type": "stream",
     "text": [
      "Best Parameters: {'max_depth': 20, 'min_samples_split': 5, 'n_estimators': 100}\n",
      "Best Score: 0.8460984865069981\n"
     ]
    }
   ],
   "source": [
    "from sklearn.model_selection import GridSearchCV\n",
    "\n",
    "# Define the parameter grid\n",
    "param_grid = {\n",
    "    'n_estimators': [50, 100, 200],\n",
    "    'max_depth': [None, 10, 20, 30],\n",
    "    'min_samples_split': [2, 5, 10]\n",
    "}\n",
    "\n",
    "# Create a GridSearchCV object\n",
    "grid_search = GridSearchCV(RandomForestClassifier(random_state=42), param_grid, cv=5, scoring='accuracy')\n",
    "\n",
    "# Fit the GridSearchCV object to the data\n",
    "grid_search.fit(X_train_scaled, y_train)\n",
    "\n",
    "# Print the best parameters and the best score\n",
    "print(f\"Best Parameters: {grid_search.best_params_}\")\n",
    "print(f\"Best Score: {grid_search.best_score_}\")"
   ]
  },
  {
   "cell_type": "code",
   "execution_count": 10,
   "metadata": {},
   "outputs": [
    {
     "name": "stdout",
     "output_type": "stream",
     "text": [
      "Random Forest Accuracy: 0.8536231884057971\n",
      "Random Forest Precision: 0.8545627376425855\n",
      "Random Forest Recall: 0.8570066730219257\n",
      "Random Forest F1 Score: 0.8557829604950024\n",
      "Random Forest AUC-ROC: 0.8535767939056739\n"
     ]
    }
   ],
   "source": [
    "# Train the model with the best parameters\n",
    "best_params = grid_search.best_params_\n",
    "rf_model = RandomForestClassifier(n_estimators=best_params['n_estimators'], \n",
    "                                  max_depth=best_params['max_depth'], \n",
    "                                  min_samples_split=best_params['min_samples_split'], \n",
    "                                  random_state=42)\n",
    "rf_model.fit(X_train_scaled, y_train)\n",
    "\n",
    "# Evaluate the model\n",
    "y_pred = rf_model.predict(X_test_scaled)\n",
    "accuracy = accuracy_score(y_test, y_pred)\n",
    "precision = precision_score(y_test, y_pred)\n",
    "recall = recall_score(y_test, y_pred)\n",
    "f1 = f1_score(y_test, y_pred)\n",
    "auc_roc = roc_auc_score(y_test, y_pred)\n",
    "\n",
    "print(f\"Random Forest Accuracy: {accuracy}\")\n",
    "print(f\"Random Forest Precision: {precision}\")\n",
    "print(f\"Random Forest Recall: {recall}\")\n",
    "print(f\"Random Forest F1 Score: {f1}\")\n",
    "print(f\"Random Forest AUC-ROC: {auc_roc}\")"
   ]
  },
  {
   "cell_type": "code",
   "execution_count": 15,
   "metadata": {},
   "outputs": [
    {
     "data": {
      "image/png": "[encoded data removed]",
      "text/plain": [
       "<Figure size 640x480 with 1 Axes>"
      ]
     },
     "metadata": {},
     "output_type": "display_data"
    }
   ],
   "source": [
    "import matplotlib.pyplot as plt\n",
    "import seaborn as sns\n",
    "\n",
    "# Set the style to 'whitegrid' for a nice background\n",
    "sns.set_style(\"whitegrid\")\n",
    "\n",
    "# Accuracy before and after tuning\n",
    "accuracy_before = 0.7913\n",
    "accuracy_after = 0.8536\n",
    "\n",
    "# Create a bar plot with seaborn\n",
    "bar_plot = sns.barplot(x=['Before Tuning', 'After Tuning'], y=[accuracy_before, accuracy_after], palette=\"cool\")\n",
    "\n",
    "# Add the values on top of each bar\n",
    "for i, value in enumerate([accuracy_before, accuracy_after]):\n",
    "    bar_plot.text(i, value, round(value, 4), color='black', ha=\"center\")\n",
    "\n",
    "plt.ylim([0.78, 0.86])  # Adjust y-axis limits\n",
    "plt.ylabel('Accuracy')\n",
    "plt.title('Model Accuracy Before and After Hyperparameter Tuning')\n",
    "plt.show()"
   ]
  }
 ],
 "metadata": {
  "kernelspec": {
   "display_name": "base",
   "language": "python",
   "name": "python3"
  },
  "language_info": {
   "codemirror_mode": {
    "name": "ipython",
    "version": 3
   },
   "file_extension": ".py",
   "mimetype": "text/x-python",
   "name": "python",
   "nbconvert_exporter": "python",
   "pygments_lexer": "ipython3",
   "version": "3.11.8"
  }
 },
 "nbformat": 4,
 "nbformat_minor": 2
}
