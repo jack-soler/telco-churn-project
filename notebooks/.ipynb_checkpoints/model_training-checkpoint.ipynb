{
 "cells": [
  {
   "cell_type": "code",
   "execution_count": 47,
   "metadata": {},
   "outputs": [],
   "source": [
    "#import models\n",
    "from sklearn.ensemble import RandomForestClassifier\n",
    "from sklearn.model_selection import train_test_split\n",
    "from sklearn.metrics import accuracy_score\n",
    "import pandas as pd\n",
    "import numpy as np\n",
    "from sqlalchemy import create_engine"
   ]
  },
  {
   "cell_type": "code",
   "execution_count": 48,
   "metadata": {},
   "outputs": [],
   "source": [
    "#create engine\n",
    "engine = create_engine('sqlite:///../notebooks/churn_data2.db')"
   ]
  },
  {
   "cell_type": "code",
   "execution_count": 49,
   "metadata": {},
   "outputs": [
    {
     "name": "stdout",
     "output_type": "stream",
     "text": [
      "Tables in database: [('churn',)]\n"
     ]
    }
   ],
   "source": [
    "import sqlite3\n",
    "\n",
    "# Connect to the SQLite database\n",
    "conn = sqlite3.connect('../notebooks/churn_data2.db')\n",
    "cursor = conn.cursor()\n",
    "\n",
    "# List all tables in the database\n",
    "cursor.execute(\"SELECT name FROM sqlite_master WHERE type='table';\")\n",
    "tables = cursor.fetchall()\n",
    "print(\"Tables in database:\", tables)\n",
    "\n",
    "# Close the connection\n",
    "conn.close()"
   ]
  },
  {
   "cell_type": "code",
   "execution_count": 50,
   "metadata": {
    "scrolled": true
   },
   "outputs": [
    {
     "name": "stdout",
     "output_type": "stream",
     "text": [
      "   customerID  SeniorCitizen    tenure  MonthlyCharges  TotalCharges Churn  \\\n",
      "0  7590-VHVEG              0 -1.277354       -1.160241     -0.994171    No   \n",
      "1  5575-GNVDE              0  0.066323       -0.259611     -0.173232    No   \n",
      "2  3668-QPYBK              0 -1.236636       -0.362635     -0.959606   Yes   \n",
      "3  7795-CFOCW              0  0.514215       -0.746482     -0.194752    No   \n",
      "4  9237-HQITU              0 -1.236636        0.197351     -0.940403   Yes   \n",
      "\n",
      "   gender_Male  Partner_Yes  Dependents_Yes  PhoneService_Yes  ...  \\\n",
      "0            0            1               0                 0  ...   \n",
      "1            1            0               0                 1  ...   \n",
      "2            1            0               0                 1  ...   \n",
      "3            1            0               0                 0  ...   \n",
      "4            0            0               0                 1  ...   \n",
      "\n",
      "   StreamingTV_No internet service  StreamingTV_Yes  \\\n",
      "0                                0                0   \n",
      "1                                0                0   \n",
      "2                                0                0   \n",
      "3                                0                0   \n",
      "4                                0                0   \n",
      "\n",
      "   StreamingMovies_No internet service  StreamingMovies_Yes  \\\n",
      "0                                    0                    0   \n",
      "1                                    0                    0   \n",
      "2                                    0                    0   \n",
      "3                                    0                    0   \n",
      "4                                    0                    0   \n",
      "\n",
      "   Contract_One year  Contract_Two year  PaperlessBilling_Yes  \\\n",
      "0                  0                  0                     1   \n",
      "1                  1                  0                     0   \n",
      "2                  0                  0                     1   \n",
      "3                  1                  0                     0   \n",
      "4                  0                  0                     1   \n",
      "\n",
      "   PaymentMethod_Credit card (automatic)  PaymentMethod_Electronic check  \\\n",
      "0                                      0                               1   \n",
      "1                                      0                               0   \n",
      "2                                      0                               0   \n",
      "3                                      0                               0   \n",
      "4                                      0                               1   \n",
      "\n",
      "   PaymentMethod_Mailed check  \n",
      "0                           0  \n",
      "1                           1  \n",
      "2                           1  \n",
      "3                           0  \n",
      "4                           0  \n",
      "\n",
      "[5 rows x 32 columns]\n"
     ]
    }
   ],
   "source": [
    "#Query data\n",
    "query = \"SELECT * FROM churn\"\n",
    "try:\n",
    "    df = pd.read_sql(query, engine)\n",
    "    print(df.head())\n",
    "except Exception as e:\n",
    "    print(f\"Error: {e}\")"
   ]
  },
  {
   "cell_type": "code",
   "execution_count": null,
   "metadata": {},
   "outputs": [],
   "source": []
  },
  {
   "cell_type": "code",
   "execution_count": null,
   "metadata": {},
   "outputs": [],
   "source": []
  }
 ],
 "metadata": {
  "kernelspec": {
   "display_name": "Python 3 (ipykernel)",
   "language": "python",
   "name": "python3"
  },
  "language_info": {
   "codemirror_mode": {
    "name": "ipython",
    "version": 3
   },
   "file_extension": ".py",
   "mimetype": "text/x-python",
   "name": "python",
   "nbconvert_exporter": "python",
   "pygments_lexer": "ipython3",
   "version": "3.12.2"
  }
 },
 "nbformat": 4,
 "nbformat_minor": 4
}
